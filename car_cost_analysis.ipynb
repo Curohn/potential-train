{
  "nbformat": 4,
  "nbformat_minor": 0,
  "metadata": {
    "colab": {
      "provenance": [],
      "authorship_tag": "ABX9TyM+ZGcjgSz7cBwo1gqxhq5U",
      "include_colab_link": true
    },
    "kernelspec": {
      "name": "python3",
      "display_name": "Python 3"
    },
    "language_info": {
      "name": "python"
    }
  },
  "cells": [
    {
      "cell_type": "markdown",
      "metadata": {
        "id": "view-in-github",
        "colab_type": "text"
      },
      "source": [
        "<a href=\"https://colab.research.google.com/github/Curohn/potential-train/blob/main/car_cost_analysis.ipynb\" target=\"_parent\"><img src=\"https://colab.research.google.com/assets/colab-badge.svg\" alt=\"Open In Colab\"/></a>"
      ]
    },
    {
      "cell_type": "markdown",
      "source": [
        "# Car Cost Analysis\n",
        "What will this project do\n"
      ],
      "metadata": {
        "id": "PDDXkVHQW0O5"
      }
    },
    {
      "cell_type": "markdown",
      "source": [
        "Import Libraries"
      ],
      "metadata": {
        "id": "Gzo0YWf_W-XZ"
      }
    },
    {
      "cell_type": "code",
      "execution_count": 10,
      "metadata": {
        "id": "lyQha9nDVh52"
      },
      "outputs": [],
      "source": [
        "import numpy as np\n",
        "import pandas as pd\n",
        "from google.colab import auth\n",
        "from google.cloud import bigquery\n",
        "from google.colab import syntax"
      ]
    },
    {
      "cell_type": "markdown",
      "source": [
        "Authenticate Big Query"
      ],
      "metadata": {
        "id": "j7cFTGnQXBEv"
      }
    },
    {
      "cell_type": "code",
      "source": [
        "auth.authenticate_user()\n",
        "print('Authenticated')"
      ],
      "metadata": {
        "colab": {
          "base_uri": "https://localhost:8080/"
        },
        "id": "cEjJFyXBXInl",
        "outputId": "31f8b23e-5cc6-48ea-fca3-8d85f74bb643"
      },
      "execution_count": 7,
      "outputs": [
        {
          "output_type": "stream",
          "name": "stdout",
          "text": [
            "Authenticated\n"
          ]
        }
      ]
    },
    {
      "cell_type": "markdown",
      "source": [
        "Query Population Data from US 2010 Census\n"
      ],
      "metadata": {
        "id": "yuqlsz7iaK5y"
      }
    },
    {
      "cell_type": "code",
      "source": [
        "project_id = 'sublime-shift-379516'\n",
        "client = bigquery.Client(project=project_id)\n",
        "\n",
        "census_df = client.query('''\n",
        "  SELECT  \n",
        "    *\n",
        "  FROM `sublime-shift-379516.analysis.census_population_by_zip_2010`\n",
        "''').to_dataframe()\n",
        "print(census_df.describe())"
      ],
      "metadata": {
        "colab": {
          "base_uri": "https://localhost:8080/"
        },
        "id": "5fchpUH3ZtFq",
        "outputId": "b79bf4b5-833e-4a8e-9e53-01f632f71733"
      },
      "execution_count": 9,
      "outputs": [
        {
          "output_type": "stream",
          "name": "stdout",
          "text": [
            "         population\n",
            "count  1.622880e+06\n",
            "mean   5.776083e+02\n",
            "std    2.891045e+03\n",
            "min    0.000000e+00\n",
            "25%    1.300000e+01\n",
            "50%    6.000000e+01\n",
            "75%    2.770000e+02\n",
            "max    1.139160e+05\n"
          ]
        }
      ]
    }
  ]
}